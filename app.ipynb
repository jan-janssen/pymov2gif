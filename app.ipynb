{
 "cells": [
  {
   "cell_type": "markdown",
   "metadata": {},
   "source": [
    "# Convert .mov file to .gif"
   ]
  },
  {
   "cell_type": "code",
   "execution_count": 1,
   "metadata": {},
   "outputs": [],
   "source": [
    "import os\n",
    "import ipywidgets as widgets\n",
    "from IPython.display import HTML\n",
    "from pymov2gif import convert"
   ]
  },
  {
   "cell_type": "code",
   "execution_count": 2,
   "metadata": {},
   "outputs": [],
   "source": [
    "res = widgets.Dropdown(\n",
    "    options=['600x400', '800x600'],\n",
    "    value='600x400',\n",
    "    description='Resolution:',\n",
    "    disabled=False,\n",
    ")"
   ]
  },
  {
   "cell_type": "code",
   "execution_count": 3,
   "metadata": {},
   "outputs": [],
   "source": [
    "framerate = widgets.Dropdown(\n",
    "    options=['5', '10', '20'],\n",
    "    value='10',\n",
    "    description='Framerate:',\n",
    "    disabled=False,\n",
    ")"
   ]
  },
  {
   "cell_type": "code",
   "execution_count": 4,
   "metadata": {},
   "outputs": [],
   "source": [
    "uploader = widgets.FileUpload(\n",
    "    accept='.mov', \n",
    "    multiple=False\n",
    ")"
   ]
  },
  {
   "cell_type": "code",
   "execution_count": 5,
   "metadata": {},
   "outputs": [],
   "source": [
    "out = widgets.Output()"
   ]
  },
  {
   "cell_type": "code",
   "execution_count": 6,
   "metadata": {},
   "outputs": [
    {
     "data": {
      "application/vnd.jupyter.widget-view+json": {
       "model_id": "7e1fc62fd4b347ce87fc4a7e9cc54c73",
       "version_major": 2,
       "version_minor": 0
      },
      "text/plain": [
       "Dropdown(description='Resolution:', options=('600x400', '800x600'), value='600x400')"
      ]
     },
     "metadata": {},
     "output_type": "display_data"
    },
    {
     "data": {
      "application/vnd.jupyter.widget-view+json": {
       "model_id": "8a24d13a3f0d422c99b82aeb368a3ff4",
       "version_major": 2,
       "version_minor": 0
      },
      "text/plain": [
       "Dropdown(description='Framerate:', index=1, options=('5', '10', '20'), value='10')"
      ]
     },
     "metadata": {},
     "output_type": "display_data"
    },
    {
     "data": {
      "application/vnd.jupyter.widget-view+json": {
       "model_id": "c8e45b6a1d924ed48fee1ae6a45a69e7",
       "version_major": 2,
       "version_minor": 0
      },
      "text/plain": [
       "FileUpload(value={}, accept='.mov', description='Upload')"
      ]
     },
     "metadata": {},
     "output_type": "display_data"
    },
    {
     "data": {
      "application/vnd.jupyter.widget-view+json": {
       "model_id": "29a17526bb6f4ccabfe26d8de8bee281",
       "version_major": 2,
       "version_minor": 0
      },
      "text/plain": [
       "Output()"
      ]
     },
     "metadata": {},
     "output_type": "display_data"
    },
    {
     "name": "stderr",
     "output_type": "stream",
     "text": [
      "ffmpeg version 4.4.1 Copyright (c) 2000-2021 the FFmpeg developers\n",
      "  built with clang version 11.1.0\n",
      "  configuration: --prefix=/Users/runner/miniforge3/conda-bld/ffmpeg_1636205445100/_h_env_placehold_placehold_placehold_placehold_placehold_placehold_placehold_placehold_placehold_placehold_placehold_placehold_placehold_placehold_placehold_placehold_placehold_placehold_placehold_pl --cc=x86_64-apple-darwin13.4.0-clang --disable-doc --disable-openssl --enable-avresample --enable-demuxer=dash --enable-gnutls --enable-gpl --enable-hardcoded-tables --enable-libfreetype --enable-libopenh264 --enable-libx264 --enable-libx265 --enable-libaom --enable-libsvtav1 --enable-libxml2 --enable-libvpx --enable-pic --enable-pthreads --enable-shared --disable-static --enable-version3 --enable-zlib --enable-libmp3lame --pkg-config=/Users/runner/miniforge3/conda-bld/ffmpeg_1636205445100/_build_env/bin/pkg-config\n",
      "  libavutil      56. 70.100 / 56. 70.100\n",
      "  libavcodec     58.134.100 / 58.134.100\n",
      "  libavformat    58. 76.100 / 58. 76.100\n",
      "  libavdevice    58. 13.100 / 58. 13.100\n",
      "  libavfilter     7.110.100 /  7.110.100\n",
      "  libavresample   4.  0.  0 /  4.  0.  0\n",
      "  libswscale      5.  9.100 /  5.  9.100\n",
      "  libswresample   3.  9.100 /  3.  9.100\n",
      "  libpostproc    55.  9.100 / 55.  9.100\n",
      "Input #0, mov,mp4,m4a,3gp,3g2,mj2, from '/Users/jan/pyiron/projects/2022/2022-02-10-mov2gif/example.mov':\n",
      "  Metadata:\n",
      "    major_brand     : qt  \n",
      "    minor_version   : 0\n",
      "    compatible_brands: qt  \n",
      "    creation_time   : 2022-02-11T15:29:44.000000Z\n",
      "    com.apple.quicktime.make: Apple\n",
      "    com.apple.quicktime.model: Macmini9,1\n",
      "    com.apple.quicktime.software: macOS 12.1 (21C52)\n",
      "    com.apple.quicktime.creationdate: 2022-02-11T08:28:36-0700\n",
      "  Duration: 00:00:05.01, start: 0.000000, bitrate: 13894 kb/s\n",
      "  Stream #0:0(und): Video: h264 (Main) (avc1 / 0x31637661), yuv420p(tv, bt709), 1920x1080, 13724 kb/s, 59.80 fps, 60 tbr, 6k tbn, 12k tbc (default)\n",
      "    Metadata:\n",
      "      creation_time   : 2022-02-11T15:29:44.000000Z\n",
      "      handler_name    : Core Media Video\n",
      "      vendor_id       : [0][0][0][0]\n",
      "      encoder         : H.264\n",
      "Stream mapping:\n",
      "  Stream #0:0 -> #0:0 (h264 (native) -> gif (native))\n",
      "Press [q] to stop, [?] for help\n",
      "Incompatible pixel format 'rgb24' for codec 'gif', auto-selecting format 'rgb8'\n",
      "Output #0, gif, to 'pipe:':\n",
      "  Metadata:\n",
      "    major_brand     : qt  \n",
      "    minor_version   : 0\n",
      "    compatible_brands: qt  \n",
      "    com.apple.quicktime.creationdate: 2022-02-11T08:28:36-0700\n",
      "    com.apple.quicktime.make: Apple\n",
      "    com.apple.quicktime.model: Macmini9,1\n",
      "    com.apple.quicktime.software: macOS 12.1 (21C52)\n",
      "    encoder         : Lavf58.76.100\n",
      "  Stream #0:0(und): Video: gif, rgb8(pc, gbr/bt709/bt709, progressive), 600x400, q=2-31, 200 kb/s, 10 fps, 100 tbn (default)\n",
      "    Metadata:\n",
      "      creation_time   : 2022-02-11T15:29:44.000000Z\n",
      "      handler_name    : Core Media Video\n",
      "      vendor_id       : [0][0][0][0]\n",
      "      encoder         : Lavc58.134.100 gif\n",
      "frame=   51 fps= 40 q=-0.0 Lsize=     270kB time=00:00:05.01 bitrate= 441.2kbits/s dup=0 drop=250 speed=3.96x    \n",
      "video:270kB audio:0kB subtitle:0kB other streams:0kB global headers:0kB muxing overhead: 0.007238%\n"
     ]
    }
   ],
   "source": [
    "display(res, framerate, uploader, out)"
   ]
  },
  {
   "cell_type": "code",
   "execution_count": 7,
   "metadata": {},
   "outputs": [],
   "source": [
    "input_file = 'example.mov'"
   ]
  },
  {
   "cell_type": "code",
   "execution_count": 8,
   "metadata": {},
   "outputs": [],
   "source": [
    "def run_refresh(*ignore):\n",
    "    for f in uploader.value.keys():\n",
    "        file_name, file_extension = os.path.splitext(f)\n",
    "        if file_extension == '.mov':\n",
    "            with open(input_file, \"wb\") as fp:\n",
    "                fp.write(uploader.value[f][\"content\"])\n",
    "            convert(\n",
    "                file=input_file, \n",
    "                resolution=res.value, \n",
    "                framerate=framerate.value\n",
    "            )\n",
    "            os.remove(input_file)\n",
    "            with out:\n",
    "                display(HTML('<img src=\"example.gif\">'))\n",
    "        else: \n",
    "            print('Can not convert: ', f)"
   ]
  },
  {
   "cell_type": "code",
   "execution_count": 9,
   "metadata": {},
   "outputs": [],
   "source": [
    "uploader.observe(run_refresh, 'value')"
   ]
  },
  {
   "cell_type": "code",
   "execution_count": null,
   "metadata": {},
   "outputs": [],
   "source": []
  }
 ],
 "metadata": {
  "kernelspec": {
   "display_name": "Python 3 (ipykernel)",
   "language": "python",
   "name": "python3"
  },
  "language_info": {
   "codemirror_mode": {
    "name": "ipython",
    "version": 3
   },
   "file_extension": ".py",
   "mimetype": "text/x-python",
   "name": "python",
   "nbconvert_exporter": "python",
   "pygments_lexer": "ipython3",
   "version": "3.10.2"
  }
 },
 "nbformat": 4,
 "nbformat_minor": 4
}
